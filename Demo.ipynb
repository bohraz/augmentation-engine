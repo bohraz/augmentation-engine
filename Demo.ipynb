{
 "cells": [
  {
   "cell_type": "markdown",
   "metadata": {},
   "source": [
    "# Filament Augmentation Process\n",
    "---"
   ]
  },
  {
   "cell_type": "code",
   "execution_count": 3,
   "metadata": {},
   "outputs": [
    {
     "name": "stdout",
     "output_type": "stream",
     "text": [
      "Looking in indexes: https://test.pypi.org/simple/\n",
      "Collecting filamentaugmentation\n",
      "  Downloading https://test-files.pythonhosted.org/packages/45/45/4a66660af6982aec42ef1055c510120d3b6c105cbff4979b20a3a752c66d/filamentaugmentation-0.0.2-py3-none-any.whl (2.7 kB)\n",
      "Installing collected packages: filamentaugmentation\n",
      "Successfully installed filamentaugmentation-0.0.2\n",
      "Note: you may need to restart the kernel to use updated packages.\n"
     ]
    }
   ],
   "source": [
    "pip install -i https://test.pypi.org/simple/ filamentaugmentation"
   ]
  },
  {
   "cell_type": "markdown",
   "metadata": {},
   "source": [
    "### Import Required Libraries "
   ]
  },
  {
   "cell_type": "code",
   "execution_count": 4,
   "metadata": {},
   "outputs": [],
   "source": [
    "import os\n",
    "from torchvision import transforms\n",
    "\n",
    "from bbsofa.loader.filament_data_loader import FilamentDataLoader\n",
    "from bbsofa.cutouts.filament_dataset import FilamentDataset\n",
    "from bbsofa.metadata.filament_metadata import FilamentMetadata"
   ]
  },
  {
   "cell_type": "markdown",
   "metadata": {},
   "source": [
    "**To find out the number of left, right and unidentified chiralities for an interval of time.**\n",
    "- The code snippet below gives the *chirality distribution*, i.e., the distribution of left, right and unidentified chiralities for an interval of time from \"2015-08-01 17:36:15\" to \"2015-08-09 18:15:17\".\n",
    "- Here the petdata has big bear space observatory(BBSO) full disk solar images from (01-09) aug 2015.\n",
    "- The format for start and end time should be YYYY-MM-DD HH:MM:SS.\n",
    "- The ann_file or annotation file is a H-alpha based manually labelled filaments in a json file comes with petdata."
   ]
  },
  {
   "cell_type": "code",
   "execution_count": 5,
   "metadata": {},
   "outputs": [
    {
     "data": {
      "text/plain": [
       "(22, 30, 185)"
      ]
     },
     "execution_count": 5,
     "metadata": {},
     "output_type": "execute_result"
    }
   ],
   "source": [
    "__file__ = 'augmentation_process.ipynb'\n",
    "bbso_json = os.path.abspath(\n",
    "        os.path.join(os.path.dirname(__file__), 'petdata', 'bbso_json_data','2015_chir_data.json'))\n",
    "filamentInfo = FilamentMetadata(ann_file = bbso_json, start_time = '2015-08-01 00:00:15',\n",
    "                                    end_time = '2015-08-30 23:59:59')\n",
    "filamentInfo.get_chirality_distribution()"
   ]
  },
  {
   "cell_type": "markdown",
   "metadata": {},
   "source": [
    "- In order to generate extra filaments for left, right or unidentified chirality by either balancing the data or getting them in required ratios to train them using an ML algorithm. A filament dataset class should be initialized which is quite similar to that of pytorch dataset class.\n",
    "- The transform list should be list of torchvision [transformations](https://pytorch.org/vision/0.8/transforms.html) \n",
    "- Filament ratio is tuple variable that takes (L,R,U)."
   ]
  },
  {
   "cell_type": "markdown",
   "metadata": {},
   "source": [
    "### Initializing Filament dataset \n",
    "To initialize filament dataset class follow parameters are required:\n",
    "- bbso_path - BBSO full disk H-alpha solar images comes with petdata, path of the folder.\n",
    "- ann_file - a H-alpha based manually labelled filaments in a json file comes with petdata.\n",
    "- The format for start and end time should be YYYY-MM-DD HH:MM:SS."
   ]
  },
  {
   "cell_type": "code",
   "execution_count": 6,
   "metadata": {},
   "outputs": [
    {
     "name": "stdout",
     "output_type": "stream",
     "text": [
      "loading annotations into memory...\n",
      "Done (t=0.05s)\n",
      "creating index...\n",
      "index created!\n"
     ]
    }
   ],
   "source": [
    "bbso_path = os.path.abspath(os.path.join(os.path.dirname(__file__), 'petdata', '2015'))\n",
    "dataset = FilamentDataset(bbso_path = bbso_path, ann_file = bbso_json, \n",
    "                          start_time = \"2015-08-01 17:36:15\", end_time = \"2015-08-09 17:36:15\")"
   ]
  },
  {
   "cell_type": "markdown",
   "metadata": {},
   "source": [
    "### Setup transformations for data augmentation\n",
    "\n",
    "The transformations function can be refered from [torchvision transforms](https://pytorch.org/vision/0.8/transforms.html)\n",
    "- Here transforms variable should have list of torchvision transforms functions as shown below: "
   ]
  },
  {
   "cell_type": "code",
   "execution_count": 7,
   "metadata": {},
   "outputs": [],
   "source": [
    "transforms1 = [\n",
    "    transforms.ColorJitter(brightness=(0.25,1.25), contrast=(0.25,2.00), saturation=(0.25,2.25)),\n",
    "    transforms.RandomRotation(15,expand=False,fill=110)\n",
    "]"
   ]
  },
  {
   "cell_type": "markdown",
   "metadata": {},
   "source": [
    "### Initializing data loader\n",
    "- dataset = object of filament dataset class.\n",
    "- batch_size = number of filaments to be generated per batch.\n",
    "- filament_ratio = tuple of three values, i.e., ratios of left, right and unidentified chirality to be generated in each batch.\n",
    "- n_batchs = number of batchs.\n",
    "- transforms = list of torchvision transformations functions\n",
    "- image_dim = image dimensions if image dimension is -1 then image will not be resize, i.e., output is original image size."
   ]
  },
  {
   "cell_type": "code",
   "execution_count": 8,
   "metadata": {},
   "outputs": [],
   "source": [
    "data_loader = FilamentDataLoader(dataset = dataset,batch_size = 3 , filament_ratio = (1, 1, 1),n_batchs = 10, \n",
    "                                 transforms = transforms1, image_dim = 224)"
   ]
  },
  {
   "cell_type": "markdown",
   "metadata": {},
   "source": [
    "#### How to generate 3 filament images for every batch with ratio of left as 1, right chirality as 1 and unidentified as 1 for 10 batches with original image dimension and display the images?"
   ]
  },
  {
   "cell_type": "code",
   "execution_count": 9,
   "metadata": {},
   "outputs": [],
   "source": [
    "data_loader = FilamentDataLoader(dataset = dataset,batch_size = 3 , filament_ratio = (1, 1, 1),\n",
    "                                 n_batchs = 10, transforms = transforms1, image_dim = -1)"
   ]
  },
  {
   "cell_type": "markdown",
   "metadata": {},
   "source": [
    "#### Batch -1 augmented filament images and their following labels (1=R, 0= U, -1=L)"
   ]
  },
  {
   "cell_type": "code",
   "execution_count": 10,
   "metadata": {
    "scrolled": false
   },
   "outputs": [
    {
     "name": "stdout",
     "output_type": "stream",
     "text": [
      "Original image\n"
     ]
    },
    {
     "ename": "NameError",
     "evalue": "name 'plt' is not defined",
     "output_type": "error",
     "traceback": [
      "\u001b[1;31m---------------------------------------------------------------------------\u001b[0m",
      "\u001b[1;31mNameError\u001b[0m                                 Traceback (most recent call last)",
      "\u001b[1;32maugmentation_process.ipynb\u001b[0m in \u001b[0;36m<module>\u001b[1;34m\u001b[0m\n\u001b[0;32m      2\u001b[0m     \u001b[1;32mfor\u001b[0m \u001b[0morg_img\u001b[0m\u001b[1;33m,\u001b[0m \u001b[0mimg\u001b[0m\u001b[1;33m,\u001b[0m \u001b[0mlabel\u001b[0m \u001b[1;32min\u001b[0m \u001b[0mzip\u001b[0m\u001b[1;33m(\u001b[0m\u001b[0moriginal_imgs\u001b[0m \u001b[1;33m,\u001b[0m\u001b[0mtransformed_imgs\u001b[0m\u001b[1;33m,\u001b[0m \u001b[0mlabels\u001b[0m\u001b[1;33m)\u001b[0m\u001b[1;33m:\u001b[0m\u001b[1;33m\u001b[0m\u001b[1;33m\u001b[0m\u001b[0m\n\u001b[0;32m      3\u001b[0m         \u001b[0mprint\u001b[0m\u001b[1;33m(\u001b[0m\u001b[1;34m\"Original image\"\u001b[0m\u001b[1;33m)\u001b[0m\u001b[1;33m\u001b[0m\u001b[1;33m\u001b[0m\u001b[0m\n\u001b[1;32m----> 4\u001b[1;33m         \u001b[0mplt\u001b[0m\u001b[1;33m.\u001b[0m\u001b[0mimshow\u001b[0m\u001b[1;33m(\u001b[0m\u001b[0morg_img\u001b[0m\u001b[1;33m,\u001b[0m \u001b[0mcmap\u001b[0m\u001b[1;33m=\u001b[0m\u001b[1;34m'gray'\u001b[0m\u001b[1;33m)\u001b[0m\u001b[1;33m\u001b[0m\u001b[1;33m\u001b[0m\u001b[0m\n\u001b[0m\u001b[0;32m      5\u001b[0m         \u001b[0mplt\u001b[0m\u001b[1;33m.\u001b[0m\u001b[0mshow\u001b[0m\u001b[1;33m(\u001b[0m\u001b[1;33m)\u001b[0m\u001b[1;33m\u001b[0m\u001b[1;33m\u001b[0m\u001b[0m\n\u001b[0;32m      6\u001b[0m         \u001b[0mprint\u001b[0m\u001b[1;33m(\u001b[0m\u001b[1;34m\"Transformed image\"\u001b[0m\u001b[1;33m)\u001b[0m\u001b[1;33m\u001b[0m\u001b[1;33m\u001b[0m\u001b[0m\n",
      "\u001b[1;31mNameError\u001b[0m: name 'plt' is not defined"
     ]
    }
   ],
   "source": [
    "for original_imgs, transformed_imgs, labels in data_loader:\n",
    "    for org_img, img, label in zip(original_imgs ,transformed_imgs, labels):\n",
    "        print(\"Original image\")\n",
    "        plt.imshow(org_img, cmap='gray')\n",
    "        plt.show()\n",
    "        print(\"Transformed image\")\n",
    "        plt.imshow(img, cmap='gray')\n",
    "        plt.show()\n",
    "        print(\"Label\",label)\n",
    "    break"
   ]
  },
  {
   "cell_type": "markdown",
   "metadata": {},
   "source": [
    "#### How to generate 12  filament images for every batch with ratio of left as 2, right chirality as 3  and unidentified as 1 for 5 batches with image dimension of 224x224 ?"
   ]
  },
  {
   "cell_type": "code",
   "execution_count": 11,
   "metadata": {},
   "outputs": [],
   "source": [
    "data_loader = FilamentDataLoader(dataset = dataset,batch_size = 12 , filament_ratio = (2, 3, 1),\n",
    "                                 n_batchs = 5, transforms = transforms1, image_dim = 224)"
   ]
  },
  {
   "cell_type": "code",
   "execution_count": 12,
   "metadata": {},
   "outputs": [
    {
     "name": "stdout",
     "output_type": "stream",
     "text": [
      "size of images  torch.Size([12, 224, 224])\n",
      "labels for each batch  tensor([[-1],\n",
      "        [ 1],\n",
      "        [ 1],\n",
      "        [-1],\n",
      "        [-1],\n",
      "        [ 0],\n",
      "        [ 1],\n",
      "        [ 1],\n",
      "        [-1],\n",
      "        [ 1],\n",
      "        [ 0],\n",
      "        [ 1]])\n",
      "size of images  torch.Size([12, 224, 224])\n",
      "labels for each batch  tensor([[-1],\n",
      "        [-1],\n",
      "        [ 1],\n",
      "        [ 1],\n",
      "        [-1],\n",
      "        [ 1],\n",
      "        [ 1],\n",
      "        [-1],\n",
      "        [ 1],\n",
      "        [ 0],\n",
      "        [ 0],\n",
      "        [ 1]])\n",
      "size of images  torch.Size([12, 224, 224])\n",
      "labels for each batch  tensor([[ 1],\n",
      "        [ 1],\n",
      "        [-1],\n",
      "        [ 1],\n",
      "        [-1],\n",
      "        [ 1],\n",
      "        [ 1],\n",
      "        [-1],\n",
      "        [-1],\n",
      "        [ 1],\n",
      "        [ 0],\n",
      "        [ 0]])\n",
      "size of images  torch.Size([12, 224, 224])\n",
      "labels for each batch  tensor([[ 1],\n",
      "        [ 1],\n",
      "        [-1],\n",
      "        [ 1],\n",
      "        [-1],\n",
      "        [ 1],\n",
      "        [ 0],\n",
      "        [-1],\n",
      "        [-1],\n",
      "        [ 1],\n",
      "        [ 0],\n",
      "        [ 1]])\n",
      "size of images  torch.Size([12, 224, 224])\n",
      "labels for each batch  tensor([[ 1],\n",
      "        [-1],\n",
      "        [ 1],\n",
      "        [-1],\n",
      "        [ 1],\n",
      "        [ 1],\n",
      "        [ 0],\n",
      "        [ 1],\n",
      "        [ 0],\n",
      "        [-1],\n",
      "        [ 1],\n",
      "        [-1]])\n"
     ]
    }
   ],
   "source": [
    "for _, imgs, labels in data_loader:\n",
    "    print(\"size of images \",imgs.shape)\n",
    "    print(\"labels for each batch \",labels)"
   ]
  },
  {
   "cell_type": "markdown",
   "metadata": {},
   "source": [
    "#### How to generate 10 filament images for every batch only for left and right chirality for 5 batches with image dimension of 224x224 ?\n",
    "- In order to remove one type of chiraity, filament ratio, i.e., tuple(L, R, U):   \n",
    "    - if L=0 that means left chirality is eliminated. Similarly, this applies to other types as well."
   ]
  },
  {
   "cell_type": "code",
   "execution_count": 13,
   "metadata": {},
   "outputs": [],
   "source": [
    "data_loader = FilamentDataLoader(dataset = dataset,batch_size = 10 , filament_ratio = (1, 1, 0),\n",
    "                                 n_batchs = 5, transforms = transforms1, image_dim = 224)"
   ]
  },
  {
   "cell_type": "code",
   "execution_count": 14,
   "metadata": {},
   "outputs": [
    {
     "name": "stdout",
     "output_type": "stream",
     "text": [
      "size of images  torch.Size([10, 224, 224])\n",
      "labels for each batch  tensor([[-1],\n",
      "        [ 1],\n",
      "        [-1],\n",
      "        [ 1],\n",
      "        [ 1],\n",
      "        [-1],\n",
      "        [-1],\n",
      "        [-1],\n",
      "        [ 1],\n",
      "        [ 1]])\n",
      "size of images  torch.Size([10, 224, 224])\n",
      "labels for each batch  tensor([[ 1],\n",
      "        [-1],\n",
      "        [-1],\n",
      "        [ 1],\n",
      "        [-1],\n",
      "        [-1],\n",
      "        [ 1],\n",
      "        [-1],\n",
      "        [ 1],\n",
      "        [ 1]])\n",
      "size of images  torch.Size([10, 224, 224])\n",
      "labels for each batch  tensor([[ 1],\n",
      "        [ 1],\n",
      "        [-1],\n",
      "        [-1],\n",
      "        [ 1],\n",
      "        [-1],\n",
      "        [-1],\n",
      "        [-1],\n",
      "        [ 1],\n",
      "        [ 1]])\n",
      "size of images  torch.Size([10, 224, 224])\n",
      "labels for each batch  tensor([[ 1],\n",
      "        [-1],\n",
      "        [ 1],\n",
      "        [ 1],\n",
      "        [-1],\n",
      "        [ 1],\n",
      "        [-1],\n",
      "        [-1],\n",
      "        [ 1],\n",
      "        [-1]])\n",
      "size of images  torch.Size([10, 224, 224])\n",
      "labels for each batch  tensor([[-1],\n",
      "        [ 1],\n",
      "        [-1],\n",
      "        [ 1],\n",
      "        [-1],\n",
      "        [ 1],\n",
      "        [ 1],\n",
      "        [-1],\n",
      "        [ 1],\n",
      "        [-1]])\n"
     ]
    }
   ],
   "source": [
    "for _, imgs, labels in data_loader:\n",
    "    print(\"size of images \",imgs.shape)\n",
    "    print(\"labels for each batch \",labels)"
   ]
  }
 ],
 "metadata": {
  "kernelspec": {
   "display_name": "Python 3",
   "language": "python",
   "name": "python3"
  },
  "language_info": {
   "codemirror_mode": {
    "name": "ipython",
    "version": 3
   },
   "file_extension": ".py",
   "mimetype": "text/x-python",
   "name": "python",
   "nbconvert_exporter": "python",
   "pygments_lexer": "ipython3",
   "version": "3.8.5"
  }
 },
 "nbformat": 4,
 "nbformat_minor": 4
}
